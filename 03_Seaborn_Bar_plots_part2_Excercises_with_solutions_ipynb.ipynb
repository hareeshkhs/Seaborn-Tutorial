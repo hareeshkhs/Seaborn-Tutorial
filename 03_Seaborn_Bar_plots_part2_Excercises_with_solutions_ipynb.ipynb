{
  "nbformat": 4,
  "nbformat_minor": 0,
  "metadata": {
    "colab": {
      "name": "03_Seaborn_Bar_plots_part2_Excercises_with_solutions.ipynb.ipynb",
      "provenance": [],
      "collapsed_sections": [],
      "authorship_tag": "ABX9TyMmn69n79eJK7Mw/vDN05iE",
      "include_colab_link": true
    },
    "kernelspec": {
      "name": "python3",
      "display_name": "Python 3"
    },
    "language_info": {
      "name": "python"
    }
  },
  "cells": [
    {
      "cell_type": "markdown",
      "metadata": {
        "id": "view-in-github",
        "colab_type": "text"
      },
      "source": [
        "<a href=\"https://colab.research.google.com/github/hareeshkhs/Seaborn-Tutorial/blob/main/03_Seaborn_Bar_plots_part2_Excercises_with_solutions_ipynb.ipynb\" target=\"_parent\"><img src=\"https://colab.research.google.com/assets/colab-badge.svg\" alt=\"Open In Colab\"/></a>"
      ]
    },
    {
      "cell_type": "markdown",
      "metadata": {
        "id": "FUn3mHPwVRz3"
      },
      "source": [
        "# Bar Plots Part 2 Exercise Questions\n",
        "**Visualisation of the penguins dataset**\n",
        "\n",
        "1. Import the necessary dependencies\n",
        "2. Load the penguins dataset\n",
        "3. Check the first five rows of the dataset using the head function of Pandas\n",
        "4. Draw a bar plot of species vs bill_length_mm\n",
        "5. Change the estimator on the y axis to median in the above plot\n",
        "6. Draw a bar plot of sex vs flipper_length_mm\n",
        "7. Change the confidence interval of the above plot to 100\n",
        "8. Set the capsize of the above plot to 0.2 with the same confidence interval of 100\n",
        "9. Set the color of the bins to blue in above plot\n",
        "10. Set the saturation of the blue in the above plot to 0.4\n",
        "11. Draw a plot of island vs bodymass_g\n",
        "12. Set the palette of the above plot to spring\n",
        "13. Save the plot with name as body_mass vs island.png using the appropriate Seaborn functions"
      ]
    },
    {
      "cell_type": "markdown",
      "metadata": {
        "id": "WDZNZX5DXCtX"
      },
      "source": [
        "**Visualization of the penguins dataset**"
      ]
    },
    {
      "cell_type": "code",
      "metadata": {
        "id": "3v5PPSi9WYPK"
      },
      "source": [
        "#1. Import the necessary dependencies\n",
        "import numpy as np\n",
        "import pandas as pd\n",
        "import seaborn as sns\n",
        "import matplotlib.pyplot as plt"
      ],
      "execution_count": null,
      "outputs": []
    },
    {
      "cell_type": "code",
      "metadata": {
        "id": "s8VfKct-XjWm"
      },
      "source": [
        "#2. Load the penguins dataset\n",
        "penguins = sns.load_dataset('penguins')"
      ],
      "execution_count": null,
      "outputs": []
    },
    {
      "cell_type": "code",
      "metadata": {
        "colab": {
          "base_uri": "https://localhost:8080/",
          "height": 204
        },
        "id": "dk1j-dTRXwDD",
        "outputId": "53f9abc9-9333-41df-8932-d80cde25cfc3"
      },
      "source": [
        "#3. Check the first five rows of the dataset using the head function of Pandas\n",
        "penguins.head()"
      ],
      "execution_count": null,
      "outputs": [
        {
          "output_type": "execute_result",
          "data": {
            "text/html": [
              "<div>\n",
              "<style scoped>\n",
              "    .dataframe tbody tr th:only-of-type {\n",
              "        vertical-align: middle;\n",
              "    }\n",
              "\n",
              "    .dataframe tbody tr th {\n",
              "        vertical-align: top;\n",
              "    }\n",
              "\n",
              "    .dataframe thead th {\n",
              "        text-align: right;\n",
              "    }\n",
              "</style>\n",
              "<table border=\"1\" class=\"dataframe\">\n",
              "  <thead>\n",
              "    <tr style=\"text-align: right;\">\n",
              "      <th></th>\n",
              "      <th>species</th>\n",
              "      <th>island</th>\n",
              "      <th>bill_length_mm</th>\n",
              "      <th>bill_depth_mm</th>\n",
              "      <th>flipper_length_mm</th>\n",
              "      <th>body_mass_g</th>\n",
              "      <th>sex</th>\n",
              "    </tr>\n",
              "  </thead>\n",
              "  <tbody>\n",
              "    <tr>\n",
              "      <th>0</th>\n",
              "      <td>Adelie</td>\n",
              "      <td>Torgersen</td>\n",
              "      <td>39.1</td>\n",
              "      <td>18.7</td>\n",
              "      <td>181.0</td>\n",
              "      <td>3750.0</td>\n",
              "      <td>Male</td>\n",
              "    </tr>\n",
              "    <tr>\n",
              "      <th>1</th>\n",
              "      <td>Adelie</td>\n",
              "      <td>Torgersen</td>\n",
              "      <td>39.5</td>\n",
              "      <td>17.4</td>\n",
              "      <td>186.0</td>\n",
              "      <td>3800.0</td>\n",
              "      <td>Female</td>\n",
              "    </tr>\n",
              "    <tr>\n",
              "      <th>2</th>\n",
              "      <td>Adelie</td>\n",
              "      <td>Torgersen</td>\n",
              "      <td>40.3</td>\n",
              "      <td>18.0</td>\n",
              "      <td>195.0</td>\n",
              "      <td>3250.0</td>\n",
              "      <td>Female</td>\n",
              "    </tr>\n",
              "    <tr>\n",
              "      <th>3</th>\n",
              "      <td>Adelie</td>\n",
              "      <td>Torgersen</td>\n",
              "      <td>NaN</td>\n",
              "      <td>NaN</td>\n",
              "      <td>NaN</td>\n",
              "      <td>NaN</td>\n",
              "      <td>NaN</td>\n",
              "    </tr>\n",
              "    <tr>\n",
              "      <th>4</th>\n",
              "      <td>Adelie</td>\n",
              "      <td>Torgersen</td>\n",
              "      <td>36.7</td>\n",
              "      <td>19.3</td>\n",
              "      <td>193.0</td>\n",
              "      <td>3450.0</td>\n",
              "      <td>Female</td>\n",
              "    </tr>\n",
              "  </tbody>\n",
              "</table>\n",
              "</div>"
            ],
            "text/plain": [
              "  species     island  bill_length_mm  ...  flipper_length_mm  body_mass_g     sex\n",
              "0  Adelie  Torgersen            39.1  ...              181.0       3750.0    Male\n",
              "1  Adelie  Torgersen            39.5  ...              186.0       3800.0  Female\n",
              "2  Adelie  Torgersen            40.3  ...              195.0       3250.0  Female\n",
              "3  Adelie  Torgersen             NaN  ...                NaN          NaN     NaN\n",
              "4  Adelie  Torgersen            36.7  ...              193.0       3450.0  Female\n",
              "\n",
              "[5 rows x 7 columns]"
            ]
          },
          "metadata": {
            "tags": []
          },
          "execution_count": 20
        }
      ]
    },
    {
      "cell_type": "code",
      "metadata": {
        "colab": {
          "base_uri": "https://localhost:8080/",
          "height": 296
        },
        "id": "obyMKFvHX1n5",
        "outputId": "56deedd8-a794-49a6-dba9-15f05cecab1f"
      },
      "source": [
        "#4. Draw a bar plot of species vs bill_length_mm\n",
        "sns.barplot(x = 'species',y = 'bill_length_mm', data = penguins)"
      ],
      "execution_count": null,
      "outputs": [
        {
          "output_type": "execute_result",
          "data": {
            "text/plain": [
              "<matplotlib.axes._subplots.AxesSubplot at 0x7f89d7d1e510>"
            ]
          },
          "metadata": {
            "tags": []
          },
          "execution_count": 21
        },
        {
          "output_type": "display_data",
          "data": {
            "image/png": "[encoded data removed]",
            "text/plain": [
              "<Figure size 432x288 with 1 Axes>"
            ]
          },
          "metadata": {
            "tags": [],
            "needs_background": "light"
          }
        }
      ]
    },
    {
      "cell_type": "code",
      "metadata": {
        "colab": {
          "base_uri": "https://localhost:8080/",
          "height": 296
        },
        "id": "P-9x7Z2LYOCr",
        "outputId": "f1ec74a2-20fc-46a5-b499-db58bf300667"
      },
      "source": [
        "#5. Change the estimator on the y axis to median in the above plot\n",
        "sns.barplot(x = 'species',y = 'bill_length_mm',estimator = np.median,data = penguins)"
      ],
      "execution_count": null,
      "outputs": [
        {
          "output_type": "execute_result",
          "data": {
            "text/plain": [
              "<matplotlib.axes._subplots.AxesSubplot at 0x7f89d7c88f10>"
            ]
          },
          "metadata": {
            "tags": []
          },
          "execution_count": 22
        },
        {
          "output_type": "display_data",
          "data": {
            "image/png": "[encoded data removed]",
            "text/plain": [
              "<Figure size 432x288 with 1 Axes>"
            ]
          },
          "metadata": {
            "tags": [],
            "needs_background": "light"
          }
        }
      ]
    },
    {
      "cell_type": "code",
      "metadata": {
        "colab": {
          "base_uri": "https://localhost:8080/",
          "height": 296
        },
        "id": "31F1QlhsYgM4",
        "outputId": "4c04c617-9eb1-4ada-de96-941ee2556d35"
      },
      "source": [
        "#6. Draw a bar plot of sex vs flipper_length_mm\n",
        "sns.barplot(x = 'sex',y = 'flipper_length_mm',data = penguins)"
      ],
      "execution_count": null,
      "outputs": [
        {
          "output_type": "execute_result",
          "data": {
            "text/plain": [
              "<matplotlib.axes._subplots.AxesSubplot at 0x7f89d7c68b10>"
            ]
          },
          "metadata": {
            "tags": []
          },
          "execution_count": 23
        },
        {
          "output_type": "display_data",
          "data": {
            "image/png": "[encoded data removed]",
            "text/plain": [
              "<Figure size 432x288 with 1 Axes>"
            ]
          },
          "metadata": {
            "tags": [],
            "needs_background": "light"
          }
        }
      ]
    },
    {
      "cell_type": "code",
      "metadata": {
        "colab": {
          "base_uri": "https://localhost:8080/",
          "height": 296
        },
        "id": "G5jgomBTYuwc",
        "outputId": "8a7dc0bb-699f-4e49-b230-90fa0feec103"
      },
      "source": [
        "#7. Change the confidence interval of the above plot to 100\n",
        "sns.barplot(x = 'sex',y = 'flipper_length_mm',ci=100,data = penguins)"
      ],
      "execution_count": null,
      "outputs": [
        {
          "output_type": "execute_result",
          "data": {
            "text/plain": [
              "<matplotlib.axes._subplots.AxesSubplot at 0x7f89d7bd3b50>"
            ]
          },
          "metadata": {
            "tags": []
          },
          "execution_count": 24
        },
        {
          "output_type": "display_data",
          "data": {
            "image/png": "[encoded data removed]",
            "text/plain": [
              "<Figure size 432x288 with 1 Axes>"
            ]
          },
          "metadata": {
            "tags": [],
            "needs_background": "light"
          }
        }
      ]
    },
    {
      "cell_type": "code",
      "metadata": {
        "colab": {
          "base_uri": "https://localhost:8080/",
          "height": 296
        },
        "id": "9zUJ-1gcY658",
        "outputId": "1c279c16-5efe-4ed1-e30e-da68f8002cc6"
      },
      "source": [
        "#8. Set the capsize of the above plot to 0.2 with the same confidence interval of 100\n",
        "sns.barplot(x = 'sex',y = 'flipper_length_mm',ci=100,capsize = 0.2,data = penguins)"
      ],
      "execution_count": null,
      "outputs": [
        {
          "output_type": "execute_result",
          "data": {
            "text/plain": [
              "<matplotlib.axes._subplots.AxesSubplot at 0x7f89d7b40ed0>"
            ]
          },
          "metadata": {
            "tags": []
          },
          "execution_count": 25
        },
        {
          "output_type": "display_data",
          "data": {
            "image/png": "[encoded data removed]",
            "text/plain": [
              "<Figure size 432x288 with 1 Axes>"
            ]
          },
          "metadata": {
            "tags": [],
            "needs_background": "light"
          }
        }
      ]
    },
    {
      "cell_type": "code",
      "metadata": {
        "colab": {
          "base_uri": "https://localhost:8080/",
          "height": 296
        },
        "id": "jvXqg1wFZHcH",
        "outputId": "79ef160f-9885-438f-8d15-0df0758d5c60"
      },
      "source": [
        "#9. Set the color of the bins to blue in above plot\n",
        "sns.barplot(x = 'sex',y = 'flipper_length_mm',color = 'blue',data = penguins)"
      ],
      "execution_count": null,
      "outputs": [
        {
          "output_type": "execute_result",
          "data": {
            "text/plain": [
              "<matplotlib.axes._subplots.AxesSubplot at 0x7f89d7b24e90>"
            ]
          },
          "metadata": {
            "tags": []
          },
          "execution_count": 26
        },
        {
          "output_type": "display_data",
          "data": {
            "image/png": "[encoded data removed]",
            "text/plain": [
              "<Figure size 432x288 with 1 Axes>"
            ]
          },
          "metadata": {
            "tags": [],
            "needs_background": "light"
          }
        }
      ]
    },
    {
      "cell_type": "code",
      "metadata": {
        "colab": {
          "base_uri": "https://localhost:8080/",
          "height": 296
        },
        "id": "eItGfjaJZfew",
        "outputId": "b4c2c69e-c8a8-49ef-923b-437fd8f414bb"
      },
      "source": [
        "#10. Set the saturation of the blue in the above plot to 0.4\n",
        "sns.barplot(x = 'sex',y = 'flipper_length_mm',color = 'blue',saturation = 0.2,data = penguins)"
      ],
      "execution_count": null,
      "outputs": [
        {
          "output_type": "execute_result",
          "data": {
            "text/plain": [
              "<matplotlib.axes._subplots.AxesSubplot at 0x7f89d7b2c610>"
            ]
          },
          "metadata": {
            "tags": []
          },
          "execution_count": 27
        },
        {
          "output_type": "display_data",
          "data": {
            "image/png": "[encoded data removed]",
            "text/plain": [
              "<Figure size 432x288 with 1 Axes>"
            ]
          },
          "metadata": {
            "tags": [],
            "needs_background": "light"
          }
        }
      ]
    },
    {
      "cell_type": "code",
      "metadata": {
        "colab": {
          "base_uri": "https://localhost:8080/",
          "height": 297
        },
        "id": "_V5fqXN_ZxxT",
        "outputId": "ef0d8132-8be0-4f06-ddc0-8799097bf839"
      },
      "source": [
        "#11. Draw a plot of island vs bodymass_g\n",
        "sns.barplot(x = 'island',y = 'body_mass_g', data = penguins)"
      ],
      "execution_count": null,
      "outputs": [
        {
          "output_type": "execute_result",
          "data": {
            "text/plain": [
              "<matplotlib.axes._subplots.AxesSubplot at 0x7f89d7a66110>"
            ]
          },
          "metadata": {
            "tags": []
          },
          "execution_count": 28
        },
        {
          "output_type": "display_data",
          "data": {
            "image/png": "[encoded data removed]",
            "text/plain": [
              "<Figure size 432x288 with 1 Axes>"
            ]
          },
          "metadata": {
            "tags": [],
            "needs_background": "light"
          }
        }
      ]
    },
    {
      "cell_type": "code",
      "metadata": {
        "colab": {
          "base_uri": "https://localhost:8080/",
          "height": 280
        },
        "id": "NYGhUOZlaCt6",
        "outputId": "a65e68ad-1c7c-4c86-cbdd-a2963f7263dc"
      },
      "source": [
        "#12. Set the palette of the above plot to spring\n",
        "sns_plot = sns.barplot(x = 'island',y = 'body_mass_g', palette= 'spring', data = penguins)"
      ],
      "execution_count": null,
      "outputs": [
        {
          "output_type": "display_data",
          "data": {
            "image/png": "[encoded data removed]",
            "text/plain": [
              "<Figure size 432x288 with 1 Axes>"
            ]
          },
          "metadata": {
            "tags": [],
            "needs_background": "light"
          }
        }
      ]
    },
    {
      "cell_type": "code",
      "metadata": {
        "id": "DlqLYSXqaT4d"
      },
      "source": [
        "#13. Save the plot with name as body_mass vs island.png using the appropriate Seaborn functions\n",
        "fig = sns_plot.get_figure()\n",
        "fig.savefig(fname = 'body_mass vs island.png')"
      ],
      "execution_count": null,
      "outputs": []
    }
  ]
}