{
  "nbformat": 4,
  "nbformat_minor": 0,
  "metadata": {
    "colab": {
      "name": "01_Seaborn_Intro_and_Installation.ipynb",
      "provenance": [],
      "collapsed_sections": [],
      "authorship_tag": "ABX9TyPVtQ2g0k5534n1e7WNzC8R",
      "include_colab_link": true
    },
    "kernelspec": {
      "name": "python3",
      "display_name": "Python 3"
    },
    "language_info": {
      "name": "python"
    }
  },
  "cells": [
    {
      "cell_type": "markdown",
      "metadata": {
        "id": "view-in-github",
        "colab_type": "text"
      },
      "source": [
        "<a href=\"https://colab.research.google.com/github/hareeshkhs/Seaborn-Tutorial/blob/main/01_Seaborn_Intro_and_Installation.ipynb\" target=\"_parent\"><img src=\"https://colab.research.google.com/assets/colab-badge.svg\" alt=\"Open In Colab\"/></a>"
      ]
    },
    {
      "cell_type": "markdown",
      "metadata": {
        "id": "OEXccMFdyspb"
      },
      "source": [
        "# Introduction and Installation\n"
      ]
    },
    {
      "cell_type": "markdown",
      "metadata": {
        "id": "yxebi_Yv6FFE"
      },
      "source": [
        "# Seaborn Vizualization Library\n",
        "\n",
        "**Introduction**\n",
        "\n",
        "Seaborn is a library of Python programming basically used for making statistical graphics of the dataset. This library is built on top of the Matplotlib library. It is also integrated closely with Pandas, which is used for the data structure of Datasets.\n",
        "\n",
        "Seaborn is very helpful to explore and understand data in a better way. It provides a high level of a crossing point for sketching attractive and informative algebraic graphics.\n",
        "\n",
        "**Installation**\n",
        "\n",
        "Conda or pip environments can be used to install Seaborn Library\n",
        "\n",
        "`pip install seaborn`\n",
        "\n",
        "`conda install -c conda-forge seaborn`\n"
      ]
    },
    {
      "cell_type": "code",
      "metadata": {
        "id": "FgVNToDlN97Z"
      },
      "source": [
        "#Import seaborn\n",
        "import seaborn as sns"
      ],
      "execution_count": 2,
      "outputs": []
    },
    {
      "cell_type": "code",
      "metadata": {
        "colab": {
          "base_uri": "https://localhost:8080/",
          "height": 35
        },
        "id": "qf72iKDXVz9z",
        "outputId": "4d1476e8-98fc-4999-c95f-cc5edf2ea21a"
      },
      "source": [
        "#Check Version of seaborn\n",
        "sns.__version__"
      ],
      "execution_count": 4,
      "outputs": [
        {
          "output_type": "execute_result",
          "data": {
            "application/vnd.google.colaboratory.intrinsic+json": {
              "type": "string"
            },
            "text/plain": [
              "'0.11.1'"
            ]
          },
          "metadata": {
            "tags": []
          },
          "execution_count": 4
        }
      ]
    }
  ]
}